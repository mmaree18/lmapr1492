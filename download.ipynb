{
 "cells": [
  {
   "cell_type": "code",
   "execution_count": 1,
   "id": "fbb8b609",
   "metadata": {},
   "outputs": [],
   "source": [
    "from pymatgen.symmetry.analyzer import SpacegroupAnalyzer\n",
    "from pymatgen.ext.matproj import MPRester\n",
    "with MPRester(\"rzFNAXwVskd5hQE3\") as m:\n",
    "# Télécharger le CIF du matériau qui sera stocké dans structure\n",
    "    structure = m.get_structure_by_material_id(\"mp-961673\")"
   ]
  },
  {
   "cell_type": "code",
   "execution_count": 2,
   "id": "30a66f80",
   "metadata": {},
   "outputs": [],
   "source": [
    "#Récupérer la symmetrized structure comme demandé\n",
    "symmetryzedstruc = SpacegroupAnalyzer(structure).get_symmetrized_structure() "
   ]
  }
 ],
 "metadata": {
  "kernelspec": {
   "display_name": "Python 3",
   "language": "python",
   "name": "python3"
  },
  "language_info": {
   "codemirror_mode": {
    "name": "ipython",
    "version": 3
   },
   "file_extension": ".py",
   "mimetype": "text/x-python",
   "name": "python",
   "nbconvert_exporter": "python",
   "pygments_lexer": "ipython3",
   "version": "3.6.8"
  }
 },
 "nbformat": 4,
 "nbformat_minor": 5
}
