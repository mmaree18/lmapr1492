{
 "cells": [
  {
   "cell_type": "code",
   "execution_count": 38,
   "id": "014f40ec",
   "metadata": {},
   "outputs": [],
   "source": [
    "from pymatgen.symmetry.analyzer import SpacegroupAnalyzer\n",
    "from jupyter_jsmol.pymatgen import quick_view\n",
    "from pymatgen.ext.matproj import MPRester\n",
    "with MPRester(\"rzFNAXwVskd5hQE3\") as m:\n",
    "# Télécharger le CIF du matériau qui sera stocké dans structure\n",
    "    structure = m.get_structure_by_material_id(\"mp-961673\")"
   ]
  },
  {
   "cell_type": "code",
   "execution_count": 39,
   "id": "f17b58d7",
   "metadata": {},
   "outputs": [],
   "source": [
    "#Récupérer la symmetrized structure comme demandé\n",
    "symmetryzedstruc = SpacegroupAnalyzer(structure).get_symmetrized_structure() "
   ]
  },
  {
   "cell_type": "code",
   "execution_count": 40,
   "id": "2b7b0868",
   "metadata": {},
   "outputs": [
    {
     "data": {
      "text/plain": [
       "[PeriodicSite: Ti (2.9417, 2.9417, 2.9417) [0.5000, 0.5000, 0.5000],\n",
       " PeriodicSite: Fe (1.4709, 1.4709, 1.4709) [0.2500, 0.2500, 0.2500],\n",
       " PeriodicSite: Te (0.0000, 0.0000, 0.0000) [0.0000, 0.0000, 0.0000]]"
      ]
     },
     "execution_count": 40,
     "metadata": {},
     "output_type": "execute_result"
    }
   ],
   "source": [
    "#Connaitre la position des atomes \n",
    "symmetryzedstruc.sites"
   ]
  },
  {
   "cell_type": "code",
   "execution_count": 41,
   "id": "691f8a30",
   "metadata": {},
   "outputs": [
    {
     "data": {
      "application/vnd.jupyter.widget-view+json": {
       "model_id": "c980506b10414556895015824d4afdfb",
       "version_major": 2,
       "version_minor": 0
      },
      "text/plain": [
       "JsmolView(layout=Layout(align_self='stretch', height='400px'))"
      ]
     },
     "metadata": {},
     "output_type": "display_data"
    }
   ],
   "source": [
    "#Afficher la symmetrized structure\n",
    "\n",
    "view = quick_view(symmetryzedstruc, supercell = [2,2,2])\n",
    "\n",
    "display(view)"
   ]
  },
  {
   "cell_type": "code",
   "execution_count": null,
   "id": "b683f3f2",
   "metadata": {},
   "outputs": [],
   "source": []
  }
 ],
 "metadata": {
  "kernelspec": {
   "display_name": "Python 3",
   "language": "python",
   "name": "python3"
  },
  "language_info": {
   "codemirror_mode": {
    "name": "ipython",
    "version": 3
   },
   "file_extension": ".py",
   "mimetype": "text/x-python",
   "name": "python",
   "nbconvert_exporter": "python",
   "pygments_lexer": "ipython3",
   "version": "3.6.8"
  }
 },
 "nbformat": 4,
 "nbformat_minor": 5
}
