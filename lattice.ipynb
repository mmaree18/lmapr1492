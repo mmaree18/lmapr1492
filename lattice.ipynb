{
 "cells": [
  {
   "cell_type": "code",
   "execution_count": 1,
   "id": "8294ddfc",
   "metadata": {},
   "outputs": [],
   "source": [
    "#Marée Maxime 27361900\n",
    "#Imports utiles\n",
    "from pymatgen.ext.matproj import MPRester\n",
    "from pymatgen import Structure\n",
    "from pymatgen.symmetry.analyzer import SpacegroupAnalyzer "
   ]
  },
  {
   "cell_type": "code",
   "execution_count": 2,
   "id": "6ea4d76b",
   "metadata": {},
   "outputs": [],
   "source": [
    "#Téléchargement du ficher CIF\n",
    "with MPRester(\"rzFNAXwVskd5hQE3\") as m:\n",
    "    structure = m.get_structure_by_material_id(\"mp-961673\")\n",
    "analyzestruc = SpacegroupAnalyzer(structure)"
   ]
  },
  {
   "cell_type": "code",
   "execution_count": 3,
   "id": "bad879cc",
   "metadata": {},
   "outputs": [
    {
     "name": "stdout",
     "output_type": "stream",
     "text": [
      "Le vecteur du réseau direct a = [0.0, 2.941705, 2.941705]\n",
      "Le vecteur du réseau direct b = [2.941705, 0.0, 2.941705]\n",
      "Le vecteur du réseau direct c = [2.941705, 2.941705, 0.0]\n"
     ]
    }
   ],
   "source": [
    "#Les vecteurs de bases du réseau direct \n",
    "#Le paramètre lattice de structure permet de récupérer les informations liées à la maille de la structure\n",
    "lattice = structure.lattice\n",
    "#Tout transformer sous forme d'un dictionnaire afin de récupérer les informations\n",
    "latticedict = lattice.as_dict()\n",
    "#On récupère la matrice décrivant la maille et donc contenant les vecteurs du réseau direct\n",
    "basisvect = latticedict['matrix']\n",
    "\n",
    "#Récupération des 3 vecteurs de base du réseau direct\n",
    "a = basisvect[0]\n",
    "b = basisvect[1]\n",
    "c = basisvect[2]\n",
    "\n",
    "print(\"Le vecteur du réseau direct a =\", a)\n",
    "print(\"Le vecteur du réseau direct b =\", b)\n",
    "print(\"Le vecteur du réseau direct c =\", c)"
   ]
  },
  {
   "cell_type": "code",
   "execution_count": 4,
   "id": "d76f150d",
   "metadata": {},
   "outputs": [
    {
     "name": "stdout",
     "output_type": "stream",
     "text": [
      "Le vecteur du réseau réciproque a* = [-1.0679495916789048, 1.067949591678905, 1.067949591678905]\n",
      "Le vecteur du réseau réciproque b* = [1.067949591678905, -1.0679495916789048, 1.067949591678905]\n",
      "Le vecteur du réseau réciproque c* = [1.067949591678905, 1.067949591678905, -1.067949591678905]\n"
     ]
    }
   ],
   "source": [
    "#Les vecteurs de bases du réseau réciproque \n",
    "#Le paramètre reciprocal_lattice de lattice (obtenue avant) permet de récupérer \n",
    "#les informations liées à la maille réciproque de la structure\n",
    "reciprocallat = lattice.reciprocal_lattice\n",
    "#Tout transformer sous forme d'un dictionnaire afin de récupérer les informations\n",
    "recilatdic = reciprocallat.as_dict()\n",
    "#On récupère la matrice décrivant la maille et donc contenant les vecteurs du réseau réciproque\n",
    "recipovect = recilatdic['matrix']\n",
    "\n",
    "#Récupération des 3 vecteurs de base du réseau réciproque\n",
    "a_rec = recipovect[0]\n",
    "b_rec = recipovect[1]\n",
    "c_rec = recipovect[2]\n",
    "\n",
    "print(\"Le vecteur du réseau réciproque a* =\", a_rec)\n",
    "print(\"Le vecteur du réseau réciproque b* =\", b_rec)\n",
    "print(\"Le vecteur du réseau réciproque c* =\", c_rec)"
   ]
  },
  {
   "cell_type": "code",
   "execution_count": 5,
   "id": "2e60cfd2",
   "metadata": {},
   "outputs": [
    {
     "name": "stdout",
     "output_type": "stream",
     "text": [
      "Le type de maille est: cubic\n"
     ]
    }
   ],
   "source": [
    "#Le type de maille, on récupère cette information avec la fonction get_lattice_type() du module pymatgen.symmetry.analyzer\n",
    "print(\"Le type de maille est:\",analyzestruc.get_lattice_type())"
   ]
  },
  {
   "cell_type": "code",
   "execution_count": 6,
   "id": "b2b5c58d",
   "metadata": {},
   "outputs": [
    {
     "name": "stdout",
     "output_type": "stream",
     "text": [
      "Le système cristallin est: cubic\n"
     ]
    }
   ],
   "source": [
    "#Le système cristallin, on récupère cette information avec la fonction get_crystal_system() du module pymatgen.symmetry.analyzer\n",
    "print(\"Le système cristallin est:\",analyzestruc.get_crystal_system())"
   ]
  },
  {
   "cell_type": "code",
   "execution_count": 7,
   "id": "db9d0cde",
   "metadata": {},
   "outputs": [
    {
     "name": "stdout",
     "output_type": "stream",
     "text": [
      "Le groupe ponctuel est: -43m\n"
     ]
    }
   ],
   "source": [
    "#Le groupe ponctuel, on récupère cette information avec la fonction get_point_group_symbol() du module pymatgen.symmetry.analyzer\n",
    "print(\"Le groupe ponctuel est:\",analyzestruc.get_point_group_symbol())"
   ]
  }
 ],
 "metadata": {
  "kernelspec": {
   "display_name": "Python 3",
   "language": "python",
   "name": "python3"
  },
  "language_info": {
   "codemirror_mode": {
    "name": "ipython",
    "version": 3
   },
   "file_extension": ".py",
   "mimetype": "text/x-python",
   "name": "python",
   "nbconvert_exporter": "python",
   "pygments_lexer": "ipython3",
   "version": "3.6.8"
  }
 },
 "nbformat": 4,
 "nbformat_minor": 5
}
